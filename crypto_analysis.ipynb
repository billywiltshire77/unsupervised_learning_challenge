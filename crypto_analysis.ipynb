{
 "cells": [
  {
   "cell_type": "code",
   "execution_count": 52,
   "id": "1fec1312-c49f-430f-b7a0-db45a2087e38",
   "metadata": {},
   "outputs": [],
   "source": [
    "import pandas as pd\n",
    "import matplotlib.pyplot as plt"
   ]
  },
  {
   "cell_type": "code",
   "execution_count": 9,
   "id": "76d0efb7-3e0d-49c9-85e5-f82877bba9ce",
   "metadata": {},
   "outputs": [
    {
     "data": {
      "text/html": [
       "<div>\n",
       "<style scoped>\n",
       "    .dataframe tbody tr th:only-of-type {\n",
       "        vertical-align: middle;\n",
       "    }\n",
       "\n",
       "    .dataframe tbody tr th {\n",
       "        vertical-align: top;\n",
       "    }\n",
       "\n",
       "    .dataframe thead th {\n",
       "        text-align: right;\n",
       "    }\n",
       "</style>\n",
       "<table border=\"1\" class=\"dataframe\">\n",
       "  <thead>\n",
       "    <tr style=\"text-align: right;\">\n",
       "      <th></th>\n",
       "      <th>Unnamed: 0</th>\n",
       "      <th>CoinName</th>\n",
       "      <th>Algorithm</th>\n",
       "      <th>IsTrading</th>\n",
       "      <th>ProofType</th>\n",
       "      <th>TotalCoinsMined</th>\n",
       "      <th>TotalCoinSupply</th>\n",
       "    </tr>\n",
       "  </thead>\n",
       "  <tbody>\n",
       "    <tr>\n",
       "      <th>0</th>\n",
       "      <td>42</td>\n",
       "      <td>42 Coin</td>\n",
       "      <td>Scrypt</td>\n",
       "      <td>True</td>\n",
       "      <td>PoW/PoS</td>\n",
       "      <td>4.199995e+01</td>\n",
       "      <td>42</td>\n",
       "    </tr>\n",
       "    <tr>\n",
       "      <th>1</th>\n",
       "      <td>365</td>\n",
       "      <td>365Coin</td>\n",
       "      <td>X11</td>\n",
       "      <td>True</td>\n",
       "      <td>PoW/PoS</td>\n",
       "      <td>NaN</td>\n",
       "      <td>2300000000</td>\n",
       "    </tr>\n",
       "    <tr>\n",
       "      <th>2</th>\n",
       "      <td>404</td>\n",
       "      <td>404Coin</td>\n",
       "      <td>Scrypt</td>\n",
       "      <td>True</td>\n",
       "      <td>PoW/PoS</td>\n",
       "      <td>1.055185e+09</td>\n",
       "      <td>532000000</td>\n",
       "    </tr>\n",
       "    <tr>\n",
       "      <th>3</th>\n",
       "      <td>611</td>\n",
       "      <td>SixEleven</td>\n",
       "      <td>SHA-256</td>\n",
       "      <td>True</td>\n",
       "      <td>PoW</td>\n",
       "      <td>NaN</td>\n",
       "      <td>611000</td>\n",
       "    </tr>\n",
       "    <tr>\n",
       "      <th>4</th>\n",
       "      <td>808</td>\n",
       "      <td>808</td>\n",
       "      <td>SHA-256</td>\n",
       "      <td>True</td>\n",
       "      <td>PoW/PoS</td>\n",
       "      <td>0.000000e+00</td>\n",
       "      <td>0</td>\n",
       "    </tr>\n",
       "  </tbody>\n",
       "</table>\n",
       "</div>"
      ],
      "text/plain": [
       "  Unnamed: 0   CoinName Algorithm  IsTrading ProofType  TotalCoinsMined  \\\n",
       "0         42    42 Coin    Scrypt       True   PoW/PoS     4.199995e+01   \n",
       "1        365    365Coin       X11       True   PoW/PoS              NaN   \n",
       "2        404    404Coin    Scrypt       True   PoW/PoS     1.055185e+09   \n",
       "3        611  SixEleven   SHA-256       True       PoW              NaN   \n",
       "4        808        808   SHA-256       True   PoW/PoS     0.000000e+00   \n",
       "\n",
       "  TotalCoinSupply  \n",
       "0              42  \n",
       "1      2300000000  \n",
       "2       532000000  \n",
       "3          611000  \n",
       "4               0  "
      ]
     },
     "execution_count": 9,
     "metadata": {},
     "output_type": "execute_result"
    }
   ],
   "source": [
    "df = pd.read_csv('crypto_data.csv')\n",
    "df.head()"
   ]
  },
  {
   "cell_type": "code",
   "execution_count": 10,
   "id": "46b44aca-cd54-4da2-88cb-a4734b909ff3",
   "metadata": {},
   "outputs": [
    {
     "name": "stdout",
     "output_type": "stream",
     "text": [
      "1144\n"
     ]
    }
   ],
   "source": [
    "actively_traded_df = df.loc[df['IsTrading'] == True, :]\n",
    "print(len(actively_traded_df))"
   ]
  },
  {
   "cell_type": "code",
   "execution_count": 11,
   "id": "f45b779f-9879-4ec7-a2cf-8c77d3919c88",
   "metadata": {},
   "outputs": [
    {
     "name": "stdout",
     "output_type": "stream",
     "text": [
      "685\n"
     ]
    }
   ],
   "source": [
    "actively_traded_df = actively_traded_df.dropna()\n",
    "print(len(actively_traded_df))"
   ]
  },
  {
   "cell_type": "code",
   "execution_count": 27,
   "id": "6046e10b-53f5-4361-81c0-47e716de8715",
   "metadata": {},
   "outputs": [
    {
     "name": "stdout",
     "output_type": "stream",
     "text": [
      "532\n"
     ]
    }
   ],
   "source": [
    "mined_coins_df = actively_traded_df.loc[actively_traded_df['TotalCoinsMined'] > 0, :]\n",
    "print(len(mined_coins_df))"
   ]
  },
  {
   "cell_type": "code",
   "execution_count": 38,
   "id": "f62a1ca0-0f72-4589-8d7f-62884aa4b120",
   "metadata": {},
   "outputs": [
    {
     "data": {
      "text/html": [
       "<div>\n",
       "<style scoped>\n",
       "    .dataframe tbody tr th:only-of-type {\n",
       "        vertical-align: middle;\n",
       "    }\n",
       "\n",
       "    .dataframe tbody tr th {\n",
       "        vertical-align: top;\n",
       "    }\n",
       "\n",
       "    .dataframe thead th {\n",
       "        text-align: right;\n",
       "    }\n",
       "</style>\n",
       "<table border=\"1\" class=\"dataframe\">\n",
       "  <thead>\n",
       "    <tr style=\"text-align: right;\">\n",
       "      <th></th>\n",
       "      <th>Algorithm</th>\n",
       "      <th>ProofType</th>\n",
       "      <th>TotalCoinsMined</th>\n",
       "      <th>TotalCoinSupply</th>\n",
       "    </tr>\n",
       "  </thead>\n",
       "  <tbody>\n",
       "    <tr>\n",
       "      <th>0</th>\n",
       "      <td>Scrypt</td>\n",
       "      <td>PoW/PoS</td>\n",
       "      <td>4.199995e+01</td>\n",
       "      <td>42</td>\n",
       "    </tr>\n",
       "    <tr>\n",
       "      <th>2</th>\n",
       "      <td>Scrypt</td>\n",
       "      <td>PoW/PoS</td>\n",
       "      <td>1.055185e+09</td>\n",
       "      <td>532000000</td>\n",
       "    </tr>\n",
       "    <tr>\n",
       "      <th>5</th>\n",
       "      <td>X13</td>\n",
       "      <td>PoW/PoS</td>\n",
       "      <td>2.927942e+10</td>\n",
       "      <td>314159265359</td>\n",
       "    </tr>\n",
       "    <tr>\n",
       "      <th>7</th>\n",
       "      <td>SHA-256</td>\n",
       "      <td>PoW</td>\n",
       "      <td>1.792718e+07</td>\n",
       "      <td>21000000</td>\n",
       "    </tr>\n",
       "    <tr>\n",
       "      <th>8</th>\n",
       "      <td>Ethash</td>\n",
       "      <td>PoW</td>\n",
       "      <td>1.076842e+08</td>\n",
       "      <td>0</td>\n",
       "    </tr>\n",
       "  </tbody>\n",
       "</table>\n",
       "</div>"
      ],
      "text/plain": [
       "  Algorithm ProofType  TotalCoinsMined TotalCoinSupply\n",
       "0    Scrypt   PoW/PoS     4.199995e+01              42\n",
       "2    Scrypt   PoW/PoS     1.055185e+09       532000000\n",
       "5       X13   PoW/PoS     2.927942e+10    314159265359\n",
       "7   SHA-256       PoW     1.792718e+07        21000000\n",
       "8    Ethash       PoW     1.076842e+08               0"
      ]
     },
     "execution_count": 38,
     "metadata": {},
     "output_type": "execute_result"
    }
   ],
   "source": [
    "data = mined_coins_df.drop(['CoinName', 'Unnamed: 0', 'IsTrading'], axis=1)\n",
    "data.head()"
   ]
  },
  {
   "cell_type": "code",
   "execution_count": 39,
   "id": "0588912b-4006-493e-8a95-377401b08908",
   "metadata": {},
   "outputs": [
    {
     "data": {
      "text/plain": [
       "(532, 96)"
      ]
     },
     "execution_count": 39,
     "metadata": {},
     "output_type": "execute_result"
    }
   ],
   "source": [
    "data = pd.get_dummies(data[['Algorithm', 'ProofType']])\n",
    "data.shape"
   ]
  },
  {
   "cell_type": "code",
   "execution_count": 40,
   "id": "40a4baae-90ff-4575-ba41-afe92e96a219",
   "metadata": {},
   "outputs": [
    {
     "data": {
      "text/plain": [
       "Index(['Algorithm_1GB AES Pattern Search', 'Algorithm_536',\n",
       "       'Algorithm_Argon2d', 'Algorithm_BLAKE256', 'Algorithm_Blake',\n",
       "       'Algorithm_Blake2S', 'Algorithm_Blake2b', 'Algorithm_C11',\n",
       "       'Algorithm_Cloverhash', 'Algorithm_Counterparty',\n",
       "       'Algorithm_CryptoNight', 'Algorithm_CryptoNight Heavy',\n",
       "       'Algorithm_CryptoNight-V7', 'Algorithm_Cryptonight-GPU',\n",
       "       'Algorithm_DPoS', 'Algorithm_Dagger', 'Algorithm_Dagger-Hashimoto',\n",
       "       'Algorithm_ECC 256K1', 'Algorithm_Equihash',\n",
       "       'Algorithm_Equihash+Scrypt', 'Algorithm_Ethash', 'Algorithm_Exosis',\n",
       "       'Algorithm_Green Protocol', 'Algorithm_Groestl', 'Algorithm_HMQ1725',\n",
       "       'Algorithm_HybridScryptHash256', 'Algorithm_IMesh',\n",
       "       'Algorithm_Jump Consistent Hash', 'Algorithm_Keccak',\n",
       "       'Algorithm_Leased POS', 'Algorithm_Lyra2RE', 'Algorithm_Lyra2REv2',\n",
       "       'Algorithm_Lyra2Z', 'Algorithm_M7 POW', 'Algorithm_Multiple',\n",
       "       'Algorithm_NIST5', 'Algorithm_NeoScrypt', 'Algorithm_Ouroboros',\n",
       "       'Algorithm_PHI1612', 'Algorithm_POS 2.0', 'Algorithm_POS 3.0',\n",
       "       'Algorithm_PoS', 'Algorithm_Proof-of-Authority',\n",
       "       'Algorithm_Proof-of-BibleHash', 'Algorithm_QUAIT', 'Algorithm_QuBit',\n",
       "       'Algorithm_Quark', 'Algorithm_SHA-256', 'Algorithm_SHA-256 + Hive',\n",
       "       'Algorithm_SHA-256D', 'Algorithm_SHA-512', 'Algorithm_SHA3',\n",
       "       'Algorithm_Scrypt', 'Algorithm_Semux BFT consensus',\n",
       "       'Algorithm_Shabal256', 'Algorithm_Skein', 'Algorithm_SkunkHash',\n",
       "       'Algorithm_SkunkHash v2 Raptor', 'Algorithm_Stanford Folding',\n",
       "       'Algorithm_TRC10', 'Algorithm_Time Travel', 'Algorithm_Tribus',\n",
       "       'Algorithm_VBFT', 'Algorithm_VeChainThor Authority', 'Algorithm_X11',\n",
       "       'Algorithm_X11GOST', 'Algorithm_X13', 'Algorithm_X14', 'Algorithm_X15',\n",
       "       'Algorithm_X16R', 'Algorithm_XEVAN', 'ProofType_DPOS', 'ProofType_DPoS',\n",
       "       'ProofType_HPoW', 'ProofType_LPoS', 'ProofType_POBh', 'ProofType_PoA',\n",
       "       'ProofType_PoC', 'ProofType_PoS', 'ProofType_PoS/LPoS',\n",
       "       'ProofType_PoS/PoW', 'ProofType_PoS/PoW/PoT', 'ProofType_PoST',\n",
       "       'ProofType_PoW', 'ProofType_PoW + Hive', 'ProofType_PoW and PoS',\n",
       "       'ProofType_PoW/PoS', 'ProofType_PoW/PoS ', 'ProofType_PoW/PoW',\n",
       "       'ProofType_PoW/nPoS', 'ProofType_Pos', 'ProofType_Proof of Authority',\n",
       "       'ProofType_Proof of Trust', 'ProofType_TPoS',\n",
       "       'ProofType_Zero-Knowledge Proof', 'ProofType_dPoW/PoW'],\n",
       "      dtype='object')"
      ]
     },
     "execution_count": 40,
     "metadata": {},
     "output_type": "execute_result"
    }
   ],
   "source": [
    "data.columns"
   ]
  },
  {
   "cell_type": "code",
   "execution_count": 30,
   "id": "08d55e43-c531-4a3d-8638-15890128df24",
   "metadata": {},
   "outputs": [],
   "source": [
    "from sklearn.preprocessing import StandardScaler\n",
    "scaler = StandardScaler()"
   ]
  },
  {
   "cell_type": "code",
   "execution_count": 32,
   "id": "b34d9c2f-6cde-4eab-be2f-ef9c42d2dbad",
   "metadata": {},
   "outputs": [],
   "source": [
    "scaled_data = scaler.fit_transform(data[['TotalCoinsMined', 'TotalCoinSupply']])"
   ]
  },
  {
   "cell_type": "code",
   "execution_count": 43,
   "id": "977e4de6-6af5-4f19-845e-2bdca5d59ffa",
   "metadata": {},
   "outputs": [
    {
     "data": {
      "text/html": [
       "<div>\n",
       "<style scoped>\n",
       "    .dataframe tbody tr th:only-of-type {\n",
       "        vertical-align: middle;\n",
       "    }\n",
       "\n",
       "    .dataframe tbody tr th {\n",
       "        vertical-align: top;\n",
       "    }\n",
       "\n",
       "    .dataframe thead th {\n",
       "        text-align: right;\n",
       "    }\n",
       "</style>\n",
       "<table border=\"1\" class=\"dataframe\">\n",
       "  <thead>\n",
       "    <tr style=\"text-align: right;\">\n",
       "      <th></th>\n",
       "      <th>Algorithm_1GB AES Pattern Search</th>\n",
       "      <th>Algorithm_536</th>\n",
       "      <th>Algorithm_Argon2d</th>\n",
       "      <th>Algorithm_BLAKE256</th>\n",
       "      <th>Algorithm_Blake</th>\n",
       "      <th>Algorithm_Blake2S</th>\n",
       "      <th>Algorithm_Blake2b</th>\n",
       "      <th>Algorithm_C11</th>\n",
       "      <th>Algorithm_Cloverhash</th>\n",
       "      <th>Algorithm_Counterparty</th>\n",
       "      <th>...</th>\n",
       "      <th>ProofType_PoW/PoW</th>\n",
       "      <th>ProofType_PoW/nPoS</th>\n",
       "      <th>ProofType_Pos</th>\n",
       "      <th>ProofType_Proof of Authority</th>\n",
       "      <th>ProofType_Proof of Trust</th>\n",
       "      <th>ProofType_TPoS</th>\n",
       "      <th>ProofType_Zero-Knowledge Proof</th>\n",
       "      <th>ProofType_dPoW/PoW</th>\n",
       "      <th>ScaledTotalCoinsMined</th>\n",
       "      <th>ScaledTotalCoinSupply</th>\n",
       "    </tr>\n",
       "  </thead>\n",
       "  <tbody>\n",
       "    <tr>\n",
       "      <th>0</th>\n",
       "      <td>0</td>\n",
       "      <td>0</td>\n",
       "      <td>0</td>\n",
       "      <td>0</td>\n",
       "      <td>0</td>\n",
       "      <td>0</td>\n",
       "      <td>0</td>\n",
       "      <td>0</td>\n",
       "      <td>0</td>\n",
       "      <td>0</td>\n",
       "      <td>...</td>\n",
       "      <td>0</td>\n",
       "      <td>0</td>\n",
       "      <td>0</td>\n",
       "      <td>0</td>\n",
       "      <td>0</td>\n",
       "      <td>0</td>\n",
       "      <td>0</td>\n",
       "      <td>0</td>\n",
       "      <td>-0.117108</td>\n",
       "      <td>-0.152870</td>\n",
       "    </tr>\n",
       "    <tr>\n",
       "      <th>2</th>\n",
       "      <td>0</td>\n",
       "      <td>0</td>\n",
       "      <td>0</td>\n",
       "      <td>0</td>\n",
       "      <td>0</td>\n",
       "      <td>0</td>\n",
       "      <td>0</td>\n",
       "      <td>0</td>\n",
       "      <td>0</td>\n",
       "      <td>0</td>\n",
       "      <td>...</td>\n",
       "      <td>0</td>\n",
       "      <td>0</td>\n",
       "      <td>0</td>\n",
       "      <td>0</td>\n",
       "      <td>0</td>\n",
       "      <td>0</td>\n",
       "      <td>0</td>\n",
       "      <td>0</td>\n",
       "      <td>-0.093970</td>\n",
       "      <td>-0.145009</td>\n",
       "    </tr>\n",
       "    <tr>\n",
       "      <th>5</th>\n",
       "      <td>0</td>\n",
       "      <td>0</td>\n",
       "      <td>0</td>\n",
       "      <td>0</td>\n",
       "      <td>0</td>\n",
       "      <td>0</td>\n",
       "      <td>0</td>\n",
       "      <td>0</td>\n",
       "      <td>0</td>\n",
       "      <td>0</td>\n",
       "      <td>...</td>\n",
       "      <td>0</td>\n",
       "      <td>0</td>\n",
       "      <td>0</td>\n",
       "      <td>0</td>\n",
       "      <td>0</td>\n",
       "      <td>0</td>\n",
       "      <td>0</td>\n",
       "      <td>0</td>\n",
       "      <td>0.524946</td>\n",
       "      <td>4.489424</td>\n",
       "    </tr>\n",
       "    <tr>\n",
       "      <th>7</th>\n",
       "      <td>0</td>\n",
       "      <td>0</td>\n",
       "      <td>0</td>\n",
       "      <td>0</td>\n",
       "      <td>0</td>\n",
       "      <td>0</td>\n",
       "      <td>0</td>\n",
       "      <td>0</td>\n",
       "      <td>0</td>\n",
       "      <td>0</td>\n",
       "      <td>...</td>\n",
       "      <td>0</td>\n",
       "      <td>0</td>\n",
       "      <td>0</td>\n",
       "      <td>0</td>\n",
       "      <td>0</td>\n",
       "      <td>0</td>\n",
       "      <td>0</td>\n",
       "      <td>0</td>\n",
       "      <td>-0.116715</td>\n",
       "      <td>-0.152560</td>\n",
       "    </tr>\n",
       "    <tr>\n",
       "      <th>8</th>\n",
       "      <td>0</td>\n",
       "      <td>0</td>\n",
       "      <td>0</td>\n",
       "      <td>0</td>\n",
       "      <td>0</td>\n",
       "      <td>0</td>\n",
       "      <td>0</td>\n",
       "      <td>0</td>\n",
       "      <td>0</td>\n",
       "      <td>0</td>\n",
       "      <td>...</td>\n",
       "      <td>0</td>\n",
       "      <td>0</td>\n",
       "      <td>0</td>\n",
       "      <td>0</td>\n",
       "      <td>0</td>\n",
       "      <td>0</td>\n",
       "      <td>0</td>\n",
       "      <td>0</td>\n",
       "      <td>-0.114747</td>\n",
       "      <td>-0.152870</td>\n",
       "    </tr>\n",
       "  </tbody>\n",
       "</table>\n",
       "<p>5 rows × 98 columns</p>\n",
       "</div>"
      ],
      "text/plain": [
       "   Algorithm_1GB AES Pattern Search  Algorithm_536  Algorithm_Argon2d  \\\n",
       "0                                 0              0                  0   \n",
       "2                                 0              0                  0   \n",
       "5                                 0              0                  0   \n",
       "7                                 0              0                  0   \n",
       "8                                 0              0                  0   \n",
       "\n",
       "   Algorithm_BLAKE256  Algorithm_Blake  Algorithm_Blake2S  Algorithm_Blake2b  \\\n",
       "0                   0                0                  0                  0   \n",
       "2                   0                0                  0                  0   \n",
       "5                   0                0                  0                  0   \n",
       "7                   0                0                  0                  0   \n",
       "8                   0                0                  0                  0   \n",
       "\n",
       "   Algorithm_C11  Algorithm_Cloverhash  Algorithm_Counterparty  ...  \\\n",
       "0              0                     0                       0  ...   \n",
       "2              0                     0                       0  ...   \n",
       "5              0                     0                       0  ...   \n",
       "7              0                     0                       0  ...   \n",
       "8              0                     0                       0  ...   \n",
       "\n",
       "   ProofType_PoW/PoW  ProofType_PoW/nPoS  ProofType_Pos  \\\n",
       "0                  0                   0              0   \n",
       "2                  0                   0              0   \n",
       "5                  0                   0              0   \n",
       "7                  0                   0              0   \n",
       "8                  0                   0              0   \n",
       "\n",
       "   ProofType_Proof of Authority  ProofType_Proof of Trust  ProofType_TPoS  \\\n",
       "0                             0                         0               0   \n",
       "2                             0                         0               0   \n",
       "5                             0                         0               0   \n",
       "7                             0                         0               0   \n",
       "8                             0                         0               0   \n",
       "\n",
       "   ProofType_Zero-Knowledge Proof  ProofType_dPoW/PoW  ScaledTotalCoinsMined  \\\n",
       "0                               0                   0              -0.117108   \n",
       "2                               0                   0              -0.093970   \n",
       "5                               0                   0               0.524946   \n",
       "7                               0                   0              -0.116715   \n",
       "8                               0                   0              -0.114747   \n",
       "\n",
       "   ScaledTotalCoinSupply  \n",
       "0              -0.152870  \n",
       "2              -0.145009  \n",
       "5               4.489424  \n",
       "7              -0.152560  \n",
       "8              -0.152870  \n",
       "\n",
       "[5 rows x 98 columns]"
      ]
     },
     "execution_count": 43,
     "metadata": {},
     "output_type": "execute_result"
    }
   ],
   "source": [
    "data['ScaledTotalCoinsMined'] = scaled_data[:,0]\n",
    "data['ScaledTotalCoinSupply'] = scaled_data[:,1]\n",
    "data.head()"
   ]
  },
  {
   "cell_type": "code",
   "execution_count": 44,
   "id": "5fbef86c-afc3-41c7-8a13-e83c904480c4",
   "metadata": {},
   "outputs": [],
   "source": [
    "from sklearn.decomposition import PCA\n",
    "pca = PCA(n_components=0.9)"
   ]
  },
  {
   "cell_type": "code",
   "execution_count": 45,
   "id": "d9021e16-9cc8-4c0f-a167-be95ed79a65f",
   "metadata": {},
   "outputs": [],
   "source": [
    "crypto_pca = pca.fit_transform(data)"
   ]
  },
  {
   "cell_type": "code",
   "execution_count": 48,
   "id": "b1c54607-c528-4cc1-8e1e-f25761b96168",
   "metadata": {},
   "outputs": [
    {
     "data": {
      "text/html": [
       "<div>\n",
       "<style scoped>\n",
       "    .dataframe tbody tr th:only-of-type {\n",
       "        vertical-align: middle;\n",
       "    }\n",
       "\n",
       "    .dataframe tbody tr th {\n",
       "        vertical-align: top;\n",
       "    }\n",
       "\n",
       "    .dataframe thead th {\n",
       "        text-align: right;\n",
       "    }\n",
       "</style>\n",
       "<table border=\"1\" class=\"dataframe\">\n",
       "  <thead>\n",
       "    <tr style=\"text-align: right;\">\n",
       "      <th></th>\n",
       "      <th>0</th>\n",
       "      <th>1</th>\n",
       "      <th>2</th>\n",
       "      <th>3</th>\n",
       "      <th>4</th>\n",
       "      <th>5</th>\n",
       "      <th>6</th>\n",
       "      <th>7</th>\n",
       "      <th>8</th>\n",
       "      <th>9</th>\n",
       "      <th>10</th>\n",
       "      <th>11</th>\n",
       "    </tr>\n",
       "  </thead>\n",
       "  <tbody>\n",
       "    <tr>\n",
       "      <th>0</th>\n",
       "      <td>-0.209276</td>\n",
       "      <td>-0.801765</td>\n",
       "      <td>0.172975</td>\n",
       "      <td>-0.672385</td>\n",
       "      <td>-0.028027</td>\n",
       "      <td>-0.027350</td>\n",
       "      <td>0.002161</td>\n",
       "      <td>-0.016859</td>\n",
       "      <td>-0.047423</td>\n",
       "      <td>-0.023043</td>\n",
       "      <td>-0.007850</td>\n",
       "      <td>0.015789</td>\n",
       "    </tr>\n",
       "    <tr>\n",
       "      <th>1</th>\n",
       "      <td>-0.187390</td>\n",
       "      <td>-0.804259</td>\n",
       "      <td>0.162555</td>\n",
       "      <td>-0.673029</td>\n",
       "      <td>-0.028782</td>\n",
       "      <td>-0.027213</td>\n",
       "      <td>0.002265</td>\n",
       "      <td>-0.017852</td>\n",
       "      <td>-0.047565</td>\n",
       "      <td>-0.023081</td>\n",
       "      <td>-0.007752</td>\n",
       "      <td>0.015888</td>\n",
       "    </tr>\n",
       "    <tr>\n",
       "      <th>2</th>\n",
       "      <td>3.529674</td>\n",
       "      <td>-0.305537</td>\n",
       "      <td>2.915403</td>\n",
       "      <td>0.414815</td>\n",
       "      <td>-0.163323</td>\n",
       "      <td>-0.259278</td>\n",
       "      <td>-0.278472</td>\n",
       "      <td>-0.152434</td>\n",
       "      <td>0.747395</td>\n",
       "      <td>0.360814</td>\n",
       "      <td>-0.233801</td>\n",
       "      <td>-0.070220</td>\n",
       "    </tr>\n",
       "    <tr>\n",
       "      <th>3</th>\n",
       "      <td>-0.180157</td>\n",
       "      <td>0.694290</td>\n",
       "      <td>-0.165771</td>\n",
       "      <td>0.239931</td>\n",
       "      <td>-0.278380</td>\n",
       "      <td>-0.614707</td>\n",
       "      <td>0.624124</td>\n",
       "      <td>-0.015063</td>\n",
       "      <td>0.027769</td>\n",
       "      <td>0.009259</td>\n",
       "      <td>-0.026164</td>\n",
       "      <td>-0.026461</td>\n",
       "    </tr>\n",
       "    <tr>\n",
       "      <th>4</th>\n",
       "      <td>-0.173289</td>\n",
       "      <td>0.688569</td>\n",
       "      <td>-0.154390</td>\n",
       "      <td>0.131918</td>\n",
       "      <td>-0.212548</td>\n",
       "      <td>-0.104388</td>\n",
       "      <td>-0.242103</td>\n",
       "      <td>0.002800</td>\n",
       "      <td>0.113068</td>\n",
       "      <td>-0.125626</td>\n",
       "      <td>0.058157</td>\n",
       "      <td>-0.129333</td>\n",
       "    </tr>\n",
       "  </tbody>\n",
       "</table>\n",
       "</div>"
      ],
      "text/plain": [
       "         0         1         2         3         4         5         6   \\\n",
       "0 -0.209276 -0.801765  0.172975 -0.672385 -0.028027 -0.027350  0.002161   \n",
       "1 -0.187390 -0.804259  0.162555 -0.673029 -0.028782 -0.027213  0.002265   \n",
       "2  3.529674 -0.305537  2.915403  0.414815 -0.163323 -0.259278 -0.278472   \n",
       "3 -0.180157  0.694290 -0.165771  0.239931 -0.278380 -0.614707  0.624124   \n",
       "4 -0.173289  0.688569 -0.154390  0.131918 -0.212548 -0.104388 -0.242103   \n",
       "\n",
       "         7         8         9         10        11  \n",
       "0 -0.016859 -0.047423 -0.023043 -0.007850  0.015789  \n",
       "1 -0.017852 -0.047565 -0.023081 -0.007752  0.015888  \n",
       "2 -0.152434  0.747395  0.360814 -0.233801 -0.070220  \n",
       "3 -0.015063  0.027769  0.009259 -0.026164 -0.026461  \n",
       "4  0.002800  0.113068 -0.125626  0.058157 -0.129333  "
      ]
     },
     "execution_count": 48,
     "metadata": {},
     "output_type": "execute_result"
    }
   ],
   "source": [
    "crypto_pca_df = pd.DataFrame(\n",
    "    data=crypto_pca\n",
    ")\n",
    "crypto_pca_df.head()"
   ]
  },
  {
   "cell_type": "code",
   "execution_count": 49,
   "id": "afc42168-9d89-4889-b483-45b97d33eb73",
   "metadata": {},
   "outputs": [],
   "source": [
    "from sklearn.manifold import TSNE\n",
    "tsne = TSNE(learning_rate=35)"
   ]
  },
  {
   "cell_type": "code",
   "execution_count": 50,
   "id": "c515e70f-cd57-4636-8e29-60f29f5e0533",
   "metadata": {},
   "outputs": [
    {
     "name": "stderr",
     "output_type": "stream",
     "text": [
      "C:\\Users\\Billy\\anaconda3\\lib\\site-packages\\sklearn\\manifold\\_t_sne.py:780: FutureWarning: The default initialization in TSNE will change from 'random' to 'pca' in 1.2.\n",
      "  warnings.warn(\n"
     ]
    },
    {
     "data": {
      "text/plain": [
       "(532, 2)"
      ]
     },
     "execution_count": 50,
     "metadata": {},
     "output_type": "execute_result"
    }
   ],
   "source": [
    "tsne_features = tsne.fit_transform(crypto_pca_df)\n",
    "tsne_features.shape"
   ]
  },
  {
   "cell_type": "code",
   "execution_count": 51,
   "id": "1a415b3e-d915-43f5-918c-cf82b4eafbd6",
   "metadata": {},
   "outputs": [],
   "source": [
    "# The first column of transformed features\n",
    "crypto_pca_df['x'] = tsne_features[:,0]\n",
    "\n",
    "# The second column of transformed features\n",
    "crypto_pca_df['y'] = tsne_features[:,1]"
   ]
  },
  {
   "cell_type": "code",
   "execution_count": 54,
   "id": "139b3021-171f-4fe7-89af-26ef9a6ad352",
   "metadata": {},
   "outputs": [
    {
     "data": {
      "image/png": "[encoded data removed]",
      "text/plain": [
       "<Figure size 432x288 with 1 Axes>"
      ]
     },
     "metadata": {
      "needs_background": "light"
     },
     "output_type": "display_data"
    }
   ],
   "source": [
    "plt.scatter(crypto_pca_df['x'], crypto_pca_df['y'])\n",
    "plt.show()"
   ]
  },
  {
   "cell_type": "code",
   "execution_count": 57,
   "id": "e107a586-96d8-4377-a516-88e75d7af03e",
   "metadata": {},
   "outputs": [
    {
     "name": "stderr",
     "output_type": "stream",
     "text": [
      "C:\\Users\\Billy\\anaconda3\\lib\\site-packages\\sklearn\\utils\\validation.py:1675: FutureWarning: Feature names only support names that are all strings. Got feature names with dtypes: ['int', 'str']. An error will be raised in 1.2.\n",
      "  warnings.warn(\n",
      "C:\\Users\\Billy\\anaconda3\\lib\\site-packages\\sklearn\\cluster\\_kmeans.py:1039: UserWarning: KMeans is known to have a memory leak on Windows with MKL, when there are less chunks than available threads. You can avoid it by setting the environment variable OMP_NUM_THREADS=3.\n",
      "  warnings.warn(\n",
      "C:\\Users\\Billy\\anaconda3\\lib\\site-packages\\sklearn\\utils\\validation.py:1675: FutureWarning: Feature names only support names that are all strings. Got feature names with dtypes: ['int', 'str']. An error will be raised in 1.2.\n",
      "  warnings.warn(\n",
      "C:\\Users\\Billy\\anaconda3\\lib\\site-packages\\sklearn\\utils\\validation.py:1675: FutureWarning: Feature names only support names that are all strings. Got feature names with dtypes: ['int', 'str']. An error will be raised in 1.2.\n",
      "  warnings.warn(\n",
      "C:\\Users\\Billy\\anaconda3\\lib\\site-packages\\sklearn\\utils\\validation.py:1675: FutureWarning: Feature names only support names that are all strings. Got feature names with dtypes: ['int', 'str']. An error will be raised in 1.2.\n",
      "  warnings.warn(\n",
      "C:\\Users\\Billy\\anaconda3\\lib\\site-packages\\sklearn\\utils\\validation.py:1675: FutureWarning: Feature names only support names that are all strings. Got feature names with dtypes: ['int', 'str']. An error will be raised in 1.2.\n",
      "  warnings.warn(\n",
      "C:\\Users\\Billy\\anaconda3\\lib\\site-packages\\sklearn\\utils\\validation.py:1675: FutureWarning: Feature names only support names that are all strings. Got feature names with dtypes: ['int', 'str']. An error will be raised in 1.2.\n",
      "  warnings.warn(\n",
      "C:\\Users\\Billy\\anaconda3\\lib\\site-packages\\sklearn\\utils\\validation.py:1675: FutureWarning: Feature names only support names that are all strings. Got feature names with dtypes: ['int', 'str']. An error will be raised in 1.2.\n",
      "  warnings.warn(\n",
      "C:\\Users\\Billy\\anaconda3\\lib\\site-packages\\sklearn\\utils\\validation.py:1675: FutureWarning: Feature names only support names that are all strings. Got feature names with dtypes: ['int', 'str']. An error will be raised in 1.2.\n",
      "  warnings.warn(\n",
      "C:\\Users\\Billy\\anaconda3\\lib\\site-packages\\sklearn\\utils\\validation.py:1675: FutureWarning: Feature names only support names that are all strings. Got feature names with dtypes: ['int', 'str']. An error will be raised in 1.2.\n",
      "  warnings.warn(\n",
      "C:\\Users\\Billy\\anaconda3\\lib\\site-packages\\sklearn\\utils\\validation.py:1675: FutureWarning: Feature names only support names that are all strings. Got feature names with dtypes: ['int', 'str']. An error will be raised in 1.2.\n",
      "  warnings.warn(\n"
     ]
    },
    {
     "data": {
      "image/png": "[encoded data removed]",
      "text/plain": [
       "<Figure size 432x288 with 1 Axes>"
      ]
     },
     "metadata": {
      "needs_background": "light"
     },
     "output_type": "display_data"
    }
   ],
   "source": [
    "from sklearn.cluster import KMeans\n",
    "inertia = []\n",
    "# Same as k = list(range(1, 11))\n",
    "k = [1,2,3,4,5,6,7,8,9,10]\n",
    "\n",
    "\n",
    "# Looking for the best k\n",
    "for i in k:\n",
    "    km = KMeans(n_clusters=i, random_state=0)\n",
    "    km.fit(crypto_pca_df)\n",
    "    inertia.append(km.inertia_)\n",
    "\n",
    "# Define a DataFrame to plot the Elbow Curve using hvPlot\n",
    "elbow_data = {\"k\": k, \"inertia\": inertia}\n",
    "df_elbow = pd.DataFrame(elbow_data)\n",
    "\n",
    "plt.plot(df_elbow['k'], df_elbow['inertia'])\n",
    "plt.xticks(range(1,11))\n",
    "plt.xlabel('Number of clusters')\n",
    "plt.ylabel('Inertia')\n",
    "plt.show()"
   ]
  },
  {
   "cell_type": "markdown",
   "id": "2d264071-90dc-4aa2-aca1-ea60de402cff",
   "metadata": {},
   "source": [
    "Recommendation:\n",
    "After exploring and analyzing the data, we can group the different crypto currencies into clusters. We can reasonable group them into 4 clusters based on the elbow plot above."
   ]
  }
 ],
 "metadata": {
  "kernelspec": {
   "display_name": "Python 3 (ipykernel)",
   "language": "python",
   "name": "python3"
  },
  "language_info": {
   "codemirror_mode": {
    "name": "ipython",
    "version": 3
   },
   "file_extension": ".py",
   "mimetype": "text/x-python",
   "name": "python",
   "nbconvert_exporter": "python",
   "pygments_lexer": "ipython3",
   "version": "3.8.5"
  }
 },
 "nbformat": 4,
 "nbformat_minor": 5
}
